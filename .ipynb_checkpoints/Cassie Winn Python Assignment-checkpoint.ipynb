{
 "cells": [
  {
   "cell_type": "markdown",
   "metadata": {},
   "source": [
    "# Python Assignment"
   ]
  },
  {
   "cell_type": "code",
   "execution_count": 1,
   "metadata": {},
   "outputs": [],
   "source": [
    "from Bio import SeqIO\n",
    "from Bio.Data import CodonTable\n",
    "import pandas as pd"
   ]
  },
  {
   "cell_type": "markdown",
   "metadata": {},
   "source": [
    "## Functions"
   ]
  },
  {
   "cell_type": "markdown",
   "metadata": {},
   "source": [
    "### 1. Document Dr. X's function with comments and markdown text."
   ]
  },
  {
   "cell_type": "markdown",
   "metadata": {},
   "source": [
    "This function creates a dictionary for all sequences from a provided fasta file. "
   ]
  },
  {
   "cell_type": "code",
   "execution_count": 2,
   "metadata": {},
   "outputs": [],
   "source": [
    "def get_sequences_from_file(fasta_fn):  ## define a new function called \"get_sequences_from_file\" with fasta file as an argument\n",
    "    sequence_data_dict = {}              ## create an empty dictionary\n",
    "    for record in SeqIO.parse(fasta_fn, \"fasta\"): ## for loop using biopython SeqIO which is a input/output interface that looks for \">\" which indicates a new record .parse() takes a file name and file format and returns a SeqRecord iterator\n",
    "        description = record.description.split() ## .split() splits characters separated by white space. (for example, all the words in the description)\n",
    "        species_name = description[1] + \" \" + description[2] ## a species name is created with the genus and species (first and second index of description)\n",
    "        sequence_data_dict[species_name] = record.seq ## add each individual record including it's species name into the created dictionary\n",
    "    return(sequence_data_dict) ## return the dictionary that contains record for each species name and its sequence"
   ]
  },
  {
   "cell_type": "markdown",
   "metadata": {},
   "source": [
    "### 2. Write a function that translates a string of nucleotides to amino acids based on Dr. X's pseudo-code."
   ]
  },
  {
   "cell_type": "code",
   "execution_count": 3,
   "metadata": {},
   "outputs": [],
   "source": [
    "from Bio.Data import CodonTable\n",
    "\n",
    "mito_table = CodonTable.unambiguous_dna_by_name[\"Vertebrate Mitochondrial\"]\n",
    "\n",
    "def translate_function1(string_nucleotides): \n",
    "    #import codon table from Biopython\n",
    "    #unambiguous_dna_by_name extends codon list to include all possible ambigous codons\n",
    "    mito_table = CodonTable.unambiguous_dna_by_name[\"Vertebrate Mitochondrial\"]\n",
    "    #create an amino_acid variable\n",
    "    aa_seq_string = \"\"\n",
    "    #for loop to go through the sequence 3 characters at a time and get codon using range subsets\n",
    "    \n",
    "    #add something to check for stop codons....\n",
    "     # IMPORTANT: if the sequence has a stop codon at the end, you should leave it off\n",
    "    \n",
    "    for i in range(0, len(string_nucleotides)-3, 3):\n",
    "        \n",
    "        codon = string_nucleotides[i:i+3]\n",
    "        aa = mito_table.forward_table[codon]\n",
    "        aa_seq_string += aa\n",
    "    return  aa_seq_string\n"
   ]
  },
  {
   "cell_type": "code",
   "execution_count": 4,
   "metadata": {},
   "outputs": [
    {
     "data": {
      "text/plain": [
       "'MPLELS'"
      ]
     },
     "execution_count": 4,
     "metadata": {},
     "output_type": "execute_result"
    }
   ],
   "source": [
    "translate_function1(\"ATGCCCTTGGAACTTTCCACT\")"
   ]
  },
  {
   "cell_type": "markdown",
   "metadata": {},
   "source": [
    "### 3. Write an alternative translation function."
   ]
  },
  {
   "cell_type": "code",
   "execution_count": 5,
   "metadata": {},
   "outputs": [],
   "source": [
    "from Bio.Seq import Seq\n",
    "from Bio.Alphabet import IUPAC\n",
    "\n",
    "#code adapted from examples in http://biopython.org/DIST/docs/tutorial/Tutorial.html#htoc25\n",
    "\n",
    "cytb_seqs = get_sequences_from_file(\"bears_cytb.fasta\") #use the above function get_sequences_from_file to create a dictionary of species and corresponding sequences\n",
    "\n",
    "#This function creates a dictionary aa_seq_dict\n",
    "def translate_function2(sequence_dict):\n",
    "    aa_seq_dict = {}\n",
    "    for key, value in sequence_dict.items(): #for loop that cycles through each key and corresponding value in cytb_seqs\n",
    "        species_name = key\n",
    "        protein = value.translate(to_stop = False) #biopython .translate() function to translate DNA sequence to protein; to_stop = False means translate stop codons; stop codons will be identified with an asterik by default\n",
    "        aa_seq_dict[species_name] = protein ## add each individual record including it's species name into the created dictionary\n",
    "    return(aa_seq_dict)\n",
    "\n",
    "#This function simply prints out the string of amino acid sequence\n",
    "def translate_function3(sequence_dict):\n",
    "    for key, value in sequence_dict.items():           #for loop that cycles through each key and corresponding value in cytb_seqs\n",
    "        species_name = key\n",
    "        protein = value.translate(to_stop = False) #biopython .translate() function to translate DNA sequence to protein; to_stop = False means translate stop codons; stop codons will be identified with an asterik by default\n",
    "        print(species_name + \" : \" + protein + \"\\n\") #print out species name (key), a colon and the protein sequence and start a new line\n",
    "    "
   ]
  },
  {
   "cell_type": "markdown",
   "metadata": {},
   "source": [
    "### 4. Write a function that calculates the molecular weight of each amino acid sequence."
   ]
  },
  {
   "cell_type": "code",
   "execution_count": 20,
   "metadata": {},
   "outputs": [],
   "source": [
    "from Bio.SeqUtils.ProtParam import ProteinAnalysis\n",
    "from Bio.Seq import Seq\n",
    "from Bio import SeqIO\n",
    "from Bio.Alphabet import IUPAC\n",
    "\n",
    "#This function creates a dictionary mw_dict\n",
    "def compute_molecular_weight(sequence_dict):\n",
    "    mw_dict = {} \n",
    "    for key, value in sequence_dict.items():\n",
    "        species_name = key\n",
    "        protein = value.translate(to_stop = True)\n",
    "        protein_str = str(protein)\n",
    "        analysed_seq = ProteinAnalysis(protein_str)\n",
    "        mw = str(analysed_seq.molecular_weight())\n",
    "        mw_dict[species_name] = mw \n",
    "    return(mw_dict)\n",
    "\n",
    "    \n",
    "\n",
    "    "
   ]
  },
  {
   "cell_type": "code",
   "execution_count": 22,
   "metadata": {},
   "outputs": [],
   "source": [
    "\n",
    "#This function simply prints out the molecular weight\n",
    "def compute_molecular_weight2(sequence_dict):\n",
    "    for key, value in sequence_dict.items():\n",
    "        species_name = key\n",
    "        protein = value.translate(to_stop = True)\n",
    "        protein_str = str(protein)\n",
    "        analysed_seq = ProteinAnalysis(protein_str)\n",
    "        mw = str(analysed_seq.molecular_weight())\n",
    "        print (species_name + \" : \" + mw)\n",
    "        \n",
    "        \n",
    "        \n",
    "        "
   ]
  },
  {
   "cell_type": "code",
   "execution_count": 12,
   "metadata": {},
   "outputs": [],
   "source": [
    "aa_seq_dict = translate_function2(cytb_seqs)"
   ]
  },
  {
   "cell_type": "code",
   "execution_count": 23,
   "metadata": {},
   "outputs": [
    {
     "name": "stdout",
     "output_type": "stream",
     "text": [
      "Ursus spelaeus : 3207.7007000000003\n",
      "Ursus arctos : 3173.6845000000003\n",
      "Ursus thibetanus : 3143.6585000000005\n",
      "Melursus ursinus : 3143.6585000000005\n",
      "Ursus americanus : 3173.6845000000003\n",
      "Helarctos malayanus : 3143.6585000000005\n",
      "Ailuropoda melanoleuca : 3277.8335000000006\n",
      "Tremarctos ornatus : 3180.6754\n",
      "Ursus maritimus : 3207.7007000000003\n"
     ]
    }
   ],
   "source": [
    "compute_molecular_weight2(cytb_seqs)"
   ]
  },
  {
   "cell_type": "markdown",
   "metadata": {},
   "source": [
    "### 5. Write a function that computes the GC-content of each DNA sequence."
   ]
  },
  {
   "cell_type": "code",
   "execution_count": 52,
   "metadata": {},
   "outputs": [],
   "source": [
    "def GC_content (sequence_dict):\n",
    "    for key, value in sequence_dict.items():           #for loop that cycles through each key and corresponding value in cytb_seqs\n",
    "        total = len(value)\n",
    "        G_count = value.count('G')\n",
    "        C_count = value.count('C')\n",
    "        GC = ((G_count + C_count)/total)*100 \n",
    "        print(key + \" : \" + str(GC))\n",
    "        \n",
    "def GC_content2 (sequence_dict):\n",
    "        GC_dict = {} \n",
    "        for key, value in sequence_dict.items(): #for loop that cycles through each key and corresponding value in cytb_seqs\n",
    "            species_name = key\n",
    "            total = len(value)\n",
    "            G_count = value.count('G')\n",
    "            C_count = value.count('C')\n",
    "            GC = ((G_count + C_count)/total)*100\n",
    "            GC_dict[species_name] = GC\n",
    "        return(mw_dict)"
   ]
  },
  {
   "cell_type": "markdown",
   "metadata": {},
   "source": [
    "## Main"
   ]
  },
  {
   "cell_type": "code",
   "execution_count": 25,
   "metadata": {},
   "outputs": [],
   "source": [
    "cytb_seqs = get_sequences_from_file(\"bears_cytb.fasta\") \n",
    "\n",
    "bears_df = pd.read_csv(\"bears_mass.csv\") # Includes only data for body mass \n",
    "species_list = list(bears_df.species)"
   ]
  },
  {
   "cell_type": "code",
   "execution_count": 26,
   "metadata": {},
   "outputs": [
    {
     "data": {
      "text/plain": [
       "{'Ursus spelaeus': Seq('ATGACCAACATCCGAAAAACCCATCCATTAGCTAAAATCATCAACAACTCATTT...AGA', SingleLetterAlphabet()),\n",
       " 'Ursus arctos': Seq('ATGACCAACATCCGAAAAACCCACCCATTAGCTAAAATCATCAACAACTCACTT...AGA', SingleLetterAlphabet()),\n",
       " 'Ursus thibetanus': Seq('ATGACCAACATCCGAAAAACCCATCCATTAGCCAAAATCATCAACAACTCACTC...AGA', SingleLetterAlphabet()),\n",
       " 'Melursus ursinus': Seq('ATGACCAACATCCGAAAAACCCACCCATTAGCTAAAATCATTAACAACTCACTC...AGA', SingleLetterAlphabet()),\n",
       " 'Ursus americanus': Seq('ATGACCAACATCCGAAAAACCCACCCATTAGCTAAAATCATCAACAACTCACTT...AGA', SingleLetterAlphabet()),\n",
       " 'Helarctos malayanus': Seq('ATGACCAACATCCGAAAAACCCACCCATTAGCTAAAATCATTAACAACTCACTT...AGA', SingleLetterAlphabet()),\n",
       " 'Ailuropoda melanoleuca': Seq('ATGATCAACATCCGAAAAACTCATCCATTAGTTAAAATTATCAACAACTCATTC...AGA', SingleLetterAlphabet()),\n",
       " 'Tremarctos ornatus': Seq('ATGACCAACATCCGAAAAACTCACCCACTAGCTAAAATCATCAACAGCTCATTC...AGA', SingleLetterAlphabet()),\n",
       " 'Ursus maritimus': Seq('ATGACCAACATCCGAAAAACCCACCCATTAGCTAAAATCATCAACAACTCATTT...AGA', SingleLetterAlphabet())}"
      ]
     },
     "execution_count": 26,
     "metadata": {},
     "output_type": "execute_result"
    }
   ],
   "source": [
    "cytb_seqs"
   ]
  },
  {
   "cell_type": "code",
   "execution_count": 27,
   "metadata": {},
   "outputs": [
    {
     "data": {
      "text/plain": [
       "Seq('ATGACCAACATCCGAAAAACCCATCCATTAGCTAAAATCATCAACAACTCATTT...AGA', SingleLetterAlphabet())"
      ]
     },
     "execution_count": 27,
     "metadata": {},
     "output_type": "execute_result"
    }
   ],
   "source": [
    "cytb_seqs[\"Ursus spelaeus\"]"
   ]
  },
  {
   "cell_type": "markdown",
   "metadata": {},
   "source": [
    "### 6. Add two new columns to the bears DataFrame: (1) molecular weight and (2) GC content."
   ]
  },
  {
   "cell_type": "code",
   "execution_count": 61,
   "metadata": {},
   "outputs": [
    {
     "name": "stdout",
     "output_type": "stream",
     "text": [
      "                  species     mass  Molecular Weight  GC Content\n",
      "0          Ursus spelaeus  550.800               NaN         NaN\n",
      "1            Ursus arctos  203.500               NaN         NaN\n",
      "2        Ursus thibetanus   99.714               NaN         NaN\n",
      "3        Melursus ursinus  100.030               NaN         NaN\n",
      "4        Ursus americanus  110.560               NaN         NaN\n",
      "5     Helarctos malayanus   47.020               NaN         NaN\n",
      "6  Ailuropoda melanoleuca  118.200               NaN         NaN\n",
      "7      Tremarctos ornatus  140.700               NaN         NaN\n",
      "8         Ursus maritimus  425.100               NaN         NaN\n"
     ]
    }
   ],
   "source": [
    "import numpy as np\n",
    "import pandas as pd\n",
    "\n",
    "#add new columns to df and set them as not a number (NaN)\n",
    "bears_df[\"Molecular Weight\"] = np.nan\n",
    "bears_df[\"GC Content\"] = np.nan\n",
    "print(bears_df)"
   ]
  },
  {
   "cell_type": "markdown",
   "metadata": {},
   "source": [
    "### 7. Call your functions from step 3 (or step 2) and step 4 and fill in the new columns in the DataFrame."
   ]
  },
  {
   "cell_type": "code",
   "execution_count": 62,
   "metadata": {},
   "outputs": [],
   "source": [
    "mw_dict = compute_molecular_weight(cytb_seqs)\n",
    "gc_dict = GC_content2(cytb_seqs)"
   ]
  },
  {
   "cell_type": "code",
   "execution_count": 63,
   "metadata": {},
   "outputs": [],
   "source": [
    "bears_df['Molecular Weight'] = bears_df['species']\n",
    "bears_df2 = bears_df.replace({\"Molecular Weight\": mw_dict})"
   ]
  },
  {
   "cell_type": "code",
   "execution_count": 64,
   "metadata": {},
   "outputs": [
    {
     "data": {
      "text/html": [
       "<div>\n",
       "<style scoped>\n",
       "    .dataframe tbody tr th:only-of-type {\n",
       "        vertical-align: middle;\n",
       "    }\n",
       "\n",
       "    .dataframe tbody tr th {\n",
       "        vertical-align: top;\n",
       "    }\n",
       "\n",
       "    .dataframe thead th {\n",
       "        text-align: right;\n",
       "    }\n",
       "</style>\n",
       "<table border=\"1\" class=\"dataframe\">\n",
       "  <thead>\n",
       "    <tr style=\"text-align: right;\">\n",
       "      <th></th>\n",
       "      <th>species</th>\n",
       "      <th>mass</th>\n",
       "      <th>Molecular Weight</th>\n",
       "      <th>GC Content</th>\n",
       "    </tr>\n",
       "  </thead>\n",
       "  <tbody>\n",
       "    <tr>\n",
       "      <th>0</th>\n",
       "      <td>Ursus spelaeus</td>\n",
       "      <td>550.800</td>\n",
       "      <td>3207.7007000000003</td>\n",
       "      <td>3207.7007000000003</td>\n",
       "    </tr>\n",
       "    <tr>\n",
       "      <th>1</th>\n",
       "      <td>Ursus arctos</td>\n",
       "      <td>203.500</td>\n",
       "      <td>3173.6845000000003</td>\n",
       "      <td>3173.6845000000003</td>\n",
       "    </tr>\n",
       "    <tr>\n",
       "      <th>2</th>\n",
       "      <td>Ursus thibetanus</td>\n",
       "      <td>99.714</td>\n",
       "      <td>3143.6585000000005</td>\n",
       "      <td>3143.6585000000005</td>\n",
       "    </tr>\n",
       "    <tr>\n",
       "      <th>3</th>\n",
       "      <td>Melursus ursinus</td>\n",
       "      <td>100.030</td>\n",
       "      <td>3143.6585000000005</td>\n",
       "      <td>3143.6585000000005</td>\n",
       "    </tr>\n",
       "    <tr>\n",
       "      <th>4</th>\n",
       "      <td>Ursus americanus</td>\n",
       "      <td>110.560</td>\n",
       "      <td>3173.6845000000003</td>\n",
       "      <td>3173.6845000000003</td>\n",
       "    </tr>\n",
       "    <tr>\n",
       "      <th>5</th>\n",
       "      <td>Helarctos malayanus</td>\n",
       "      <td>47.020</td>\n",
       "      <td>3143.6585000000005</td>\n",
       "      <td>3143.6585000000005</td>\n",
       "    </tr>\n",
       "    <tr>\n",
       "      <th>6</th>\n",
       "      <td>Ailuropoda melanoleuca</td>\n",
       "      <td>118.200</td>\n",
       "      <td>3277.8335000000006</td>\n",
       "      <td>3277.8335000000006</td>\n",
       "    </tr>\n",
       "    <tr>\n",
       "      <th>7</th>\n",
       "      <td>Tremarctos ornatus</td>\n",
       "      <td>140.700</td>\n",
       "      <td>3180.6754</td>\n",
       "      <td>3180.6754</td>\n",
       "    </tr>\n",
       "    <tr>\n",
       "      <th>8</th>\n",
       "      <td>Ursus maritimus</td>\n",
       "      <td>425.100</td>\n",
       "      <td>3207.7007000000003</td>\n",
       "      <td>3207.7007000000003</td>\n",
       "    </tr>\n",
       "  </tbody>\n",
       "</table>\n",
       "</div>"
      ],
      "text/plain": [
       "                  species     mass    Molecular Weight          GC Content\n",
       "0          Ursus spelaeus  550.800  3207.7007000000003  3207.7007000000003\n",
       "1            Ursus arctos  203.500  3173.6845000000003  3173.6845000000003\n",
       "2        Ursus thibetanus   99.714  3143.6585000000005  3143.6585000000005\n",
       "3        Melursus ursinus  100.030  3143.6585000000005  3143.6585000000005\n",
       "4        Ursus americanus  110.560  3173.6845000000003  3173.6845000000003\n",
       "5     Helarctos malayanus   47.020  3143.6585000000005  3143.6585000000005\n",
       "6  Ailuropoda melanoleuca  118.200  3277.8335000000006  3277.8335000000006\n",
       "7      Tremarctos ornatus  140.700           3180.6754           3180.6754\n",
       "8         Ursus maritimus  425.100  3207.7007000000003  3207.7007000000003"
      ]
     },
     "execution_count": 64,
     "metadata": {},
     "output_type": "execute_result"
    }
   ],
   "source": [
    "bears_df2['GC Content'] = bears_df2['species']\n",
    "bears_df2.replace({\"GC Content\": gc_dict})"
   ]
  },
  {
   "cell_type": "code",
   "execution_count": 46,
   "metadata": {},
   "outputs": [
    {
     "ename": "ValueError",
     "evalue": "The truth value of a Series is ambiguous. Use a.empty, a.bool(), a.item(), a.any() or a.all().",
     "output_type": "error",
     "traceback": [
      "\u001b[0;31m---------------------------------------------------------------------------\u001b[0m",
      "\u001b[0;31mValueError\u001b[0m                                Traceback (most recent call last)",
      "\u001b[0;32m<ipython-input-46-9788911cf8b4>\u001b[0m in \u001b[0;36m<module>\u001b[0;34m\u001b[0m\n\u001b[1;32m      1\u001b[0m \u001b[0;32mfor\u001b[0m \u001b[0mkey\u001b[0m\u001b[0;34m,\u001b[0m \u001b[0mvalue\u001b[0m \u001b[0;32min\u001b[0m \u001b[0mmw_dict\u001b[0m\u001b[0;34m.\u001b[0m\u001b[0mitems\u001b[0m\u001b[0;34m(\u001b[0m\u001b[0;34m)\u001b[0m\u001b[0;34m:\u001b[0m\u001b[0;34m\u001b[0m\u001b[0m\n\u001b[0;32m----> 2\u001b[0;31m     \u001b[0;32mif\u001b[0m \u001b[0mstr\u001b[0m\u001b[0;34m(\u001b[0m\u001b[0mkey\u001b[0m\u001b[0;34m)\u001b[0m \u001b[0;34m==\u001b[0m \u001b[0mbears_df\u001b[0m\u001b[0;34m[\u001b[0m\u001b[0;34m'species'\u001b[0m\u001b[0;34m]\u001b[0m\u001b[0;34m:\u001b[0m\u001b[0;34m\u001b[0m\u001b[0m\n\u001b[0m\u001b[1;32m      3\u001b[0m         \u001b[0mbears_df\u001b[0m\u001b[0;34m[\u001b[0m\u001b[0;34m'Molecular Weight'\u001b[0m\u001b[0;34m]\u001b[0m \u001b[0;34m=\u001b[0m \u001b[0mvalue\u001b[0m\u001b[0;34m\u001b[0m\u001b[0m\n",
      "\u001b[0;32m~/anaconda3/lib/python3.7/site-packages/pandas/core/generic.py\u001b[0m in \u001b[0;36m__nonzero__\u001b[0;34m(self)\u001b[0m\n\u001b[1;32m   1574\u001b[0m         raise ValueError(\"The truth value of a {0} is ambiguous. \"\n\u001b[1;32m   1575\u001b[0m                          \u001b[0;34m\"Use a.empty, a.bool(), a.item(), a.any() or a.all().\"\u001b[0m\u001b[0;34m\u001b[0m\u001b[0m\n\u001b[0;32m-> 1576\u001b[0;31m                          .format(self.__class__.__name__))\n\u001b[0m\u001b[1;32m   1577\u001b[0m \u001b[0;34m\u001b[0m\u001b[0m\n\u001b[1;32m   1578\u001b[0m     \u001b[0m__bool__\u001b[0m \u001b[0;34m=\u001b[0m \u001b[0m__nonzero__\u001b[0m\u001b[0;34m\u001b[0m\u001b[0m\n",
      "\u001b[0;31mValueError\u001b[0m: The truth value of a Series is ambiguous. Use a.empty, a.bool(), a.item(), a.any() or a.all()."
     ]
    }
   ],
   "source": [
    "for key, value in mw_dict.items():\n",
    "    if str(key) == bears_df['species']:\n",
    "        bears_df['Molecular Weight'] = value\n",
    "        \n",
    "        \n",
    "        "
   ]
  },
  {
   "cell_type": "code",
   "execution_count": 42,
   "metadata": {},
   "outputs": [
    {
     "ename": "ValueError",
     "evalue": "The truth value of a Series is ambiguous. Use a.empty, a.bool(), a.item(), a.any() or a.all().",
     "output_type": "error",
     "traceback": [
      "\u001b[0;31m---------------------------------------------------------------------------\u001b[0m",
      "\u001b[0;31mValueError\u001b[0m                                Traceback (most recent call last)",
      "\u001b[0;32m<ipython-input-42-7cddd4273583>\u001b[0m in \u001b[0;36m<module>\u001b[0;34m\u001b[0m\n\u001b[1;32m      1\u001b[0m \u001b[0;32mfor\u001b[0m \u001b[0mkey\u001b[0m\u001b[0;34m,\u001b[0m \u001b[0mvalue\u001b[0m \u001b[0;32min\u001b[0m \u001b[0mmw_dict\u001b[0m\u001b[0;34m.\u001b[0m\u001b[0mitems\u001b[0m\u001b[0;34m(\u001b[0m\u001b[0;34m)\u001b[0m\u001b[0;34m:\u001b[0m\u001b[0;34m\u001b[0m\u001b[0m\n\u001b[0;32m----> 2\u001b[0;31m     \u001b[0;32mif\u001b[0m \u001b[0mkey\u001b[0m \u001b[0;34m==\u001b[0m \u001b[0mbears_df\u001b[0m\u001b[0;34m[\u001b[0m\u001b[0;34m'species'\u001b[0m\u001b[0;34m]\u001b[0m\u001b[0;34m:\u001b[0m\u001b[0;34m\u001b[0m\u001b[0m\n\u001b[0m\u001b[1;32m      3\u001b[0m         \u001b[0mbears_df\u001b[0m\u001b[0;34m[\u001b[0m\u001b[0;34m'Molecular Weight'\u001b[0m\u001b[0;34m]\u001b[0m \u001b[0;34m=\u001b[0m \u001b[0mvalue\u001b[0m\u001b[0;34m\u001b[0m\u001b[0m\n\u001b[1;32m      4\u001b[0m \u001b[0;34m\u001b[0m\u001b[0m\n",
      "\u001b[0;32m~/anaconda3/lib/python3.7/site-packages/pandas/core/generic.py\u001b[0m in \u001b[0;36m__nonzero__\u001b[0;34m(self)\u001b[0m\n\u001b[1;32m   1574\u001b[0m         raise ValueError(\"The truth value of a {0} is ambiguous. \"\n\u001b[1;32m   1575\u001b[0m                          \u001b[0;34m\"Use a.empty, a.bool(), a.item(), a.any() or a.all().\"\u001b[0m\u001b[0;34m\u001b[0m\u001b[0m\n\u001b[0;32m-> 1576\u001b[0;31m                          .format(self.__class__.__name__))\n\u001b[0m\u001b[1;32m   1577\u001b[0m \u001b[0;34m\u001b[0m\u001b[0m\n\u001b[1;32m   1578\u001b[0m     \u001b[0m__bool__\u001b[0m \u001b[0;34m=\u001b[0m \u001b[0m__nonzero__\u001b[0m\u001b[0;34m\u001b[0m\u001b[0m\n",
      "\u001b[0;31mValueError\u001b[0m: The truth value of a Series is ambiguous. Use a.empty, a.bool(), a.item(), a.any() or a.all()."
     ]
    }
   ],
   "source": [
    "for key, value in mw_dict.items():\n",
    "    if key == bears_df['species']:\n",
    "        bears_df['Molecular Weight'] = value\n",
    "        "
   ]
  },
  {
   "cell_type": "code",
   "execution_count": 32,
   "metadata": {},
   "outputs": [
    {
     "name": "stdout",
     "output_type": "stream",
     "text": [
      "Ursus spelaeus : 3207.7007000000003\n",
      "Ursus arctos : 3173.6845000000003\n",
      "Ursus thibetanus : 3143.6585000000005\n",
      "Melursus ursinus : 3143.6585000000005\n",
      "Ursus americanus : 3173.6845000000003\n",
      "Helarctos malayanus : 3143.6585000000005\n",
      "Ailuropoda melanoleuca : 3277.8335000000006\n",
      "Tremarctos ornatus : 3180.6754\n",
      "Ursus maritimus : 3207.7007000000003\n",
      "Ursus spelaeus : 43.771929824561404\n",
      "Ursus arctos : 43.771929824561404\n",
      "Ursus thibetanus : 45.614035087719294\n",
      "Melursus ursinus : 45.17543859649123\n",
      "Ursus americanus : 43.94736842105263\n",
      "Helarctos malayanus : 44.29824561403509\n",
      "Ailuropoda melanoleuca : 40.78947368421053\n",
      "Tremarctos ornatus : 44.3859649122807\n",
      "Ursus maritimus : 44.29824561403509\n"
     ]
    }
   ],
   "source": [
    "from Bio.Seq import Seq\n",
    "from Bio import SeqIO\n",
    "from Bio.Alphabet import IUPAC\n",
    "from Bio.SeqUtils import GC\n",
    "from Bio.SeqUtils.ProtParam import ProteinAnalysis\n",
    "import numpy as np\n",
    "import pandas as pd\n",
    "\n",
    "\n",
    "mw_list = compute_molecular_weight2(cytb_seqs)\n",
    "gc_list = GC_content(cytb_seqs)\n",
    "\n",
    "mw_array = np.asarray(mw_list)\n",
    "gc_array = np.asarray(gc_list)"
   ]
  },
  {
   "cell_type": "code",
   "execution_count": 33,
   "metadata": {},
   "outputs": [
    {
     "name": "stdout",
     "output_type": "stream",
     "text": [
      "None\n"
     ]
    }
   ],
   "source": [
    "print(gc_array)"
   ]
  },
  {
   "cell_type": "markdown",
   "metadata": {},
   "source": [
    "### 8. Plot a bar-chart of adult body mass per species. In your description of the graph, provide text that answers these questions: \n",
    " a. What is the largest bear species? \n",
    " b. What else is interesting about this species?"
   ]
  },
  {
   "cell_type": "markdown",
   "metadata": {},
   "source": [
    "### 9. Plot a graph that shows the molecular weight as a function of GC content. "
   ]
  },
  {
   "cell_type": "markdown",
   "metadata": {},
   "source": [
    "### 10. Write the entire DataFrame to a new CSV file that includes your new columns."
   ]
  },
  {
   "cell_type": "markdown",
   "metadata": {},
   "source": [
    "### 11. BONUS: What other visualizations, functions or tasks would you do with this dataset? Add something interesting for fun."
   ]
  },
  {
   "cell_type": "code",
   "execution_count": null,
   "metadata": {},
   "outputs": [],
   "source": []
  }
 ],
 "metadata": {
  "kernelspec": {
   "display_name": "Python 3",
   "language": "python",
   "name": "python3"
  },
  "language_info": {
   "codemirror_mode": {
    "name": "ipython",
    "version": 3
   },
   "file_extension": ".py",
   "mimetype": "text/x-python",
   "name": "python",
   "nbconvert_exporter": "python",
   "pygments_lexer": "ipython3",
   "version": "3.7.0"
  }
 },
 "nbformat": 4,
 "nbformat_minor": 2
}
