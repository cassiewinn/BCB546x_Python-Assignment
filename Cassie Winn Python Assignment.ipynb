{
 "cells": [
  {
   "cell_type": "markdown",
   "metadata": {},
   "source": [
    "# Python Assignment"
   ]
  },
  {
   "cell_type": "code",
   "execution_count": 1,
   "metadata": {},
   "outputs": [],
   "source": [
    "from Bio import SeqIO\n",
    "from Bio.Data import CodonTable\n",
    "import pandas as pd"
   ]
  },
  {
   "cell_type": "markdown",
   "metadata": {},
   "source": [
    "## Functions"
   ]
  },
  {
   "cell_type": "markdown",
   "metadata": {},
   "source": [
    "### 1. Document Dr. X's function with comments and markdown text."
   ]
  },
  {
   "cell_type": "markdown",
   "metadata": {},
   "source": [
    "This function creates a dictionary for all sequences from a provided fasta file. "
   ]
  },
  {
   "cell_type": "code",
   "execution_count": 2,
   "metadata": {},
   "outputs": [],
   "source": [
    "def get_sequences_from_file(fasta_fn):  # define a new function called \"get_sequences_from_file\" with fasta file as an argument\n",
    "    sequence_data_dict = {}              # create an empty dictionary\n",
    "    for record in SeqIO.parse(fasta_fn, \"fasta\"): # for loop using biopython SeqIO which is a input/output interface that looks for \">\" which indicates a new record .parse() takes a file name and file format and returns a SeqRecord iterator\n",
    "        description = record.description.split() # .split() splits characters separated by white space. (for example, all the words in the description)\n",
    "        species_name = description[1] + \" \" + description[2] # a species name is created with the genus and species (first and second index of description)\n",
    "        sequence_data_dict[species_name] = record.seq # add each individual record including it's species name into the created dictionary\n",
    "    return(sequence_data_dict) # return the dictionary that contains record for each species name and its sequence"
   ]
  },
  {
   "cell_type": "markdown",
   "metadata": {},
   "source": [
    "### 2. Write a function that translates a string of nucleotides to amino acids based on Dr. X's pseudo-code."
   ]
  },
  {
   "cell_type": "code",
   "execution_count": 3,
   "metadata": {},
   "outputs": [
    {
     "name": "stdout",
     "output_type": "stream",
     "text": [
      "Table 2 Vertebrate Mitochondrial, SGC1\n",
      "\n",
      "  |  T      |  C      |  A      |  G      |\n",
      "--+---------+---------+---------+---------+--\n",
      "T | TTT F   | TCT S   | TAT Y   | TGT C   | T\n",
      "T | TTC F   | TCC S   | TAC Y   | TGC C   | C\n",
      "T | TTA L   | TCA S   | TAA Stop| TGA W   | A\n",
      "T | TTG L   | TCG S   | TAG Stop| TGG W   | G\n",
      "--+---------+---------+---------+---------+--\n",
      "C | CTT L   | CCT P   | CAT H   | CGT R   | T\n",
      "C | CTC L   | CCC P   | CAC H   | CGC R   | C\n",
      "C | CTA L   | CCA P   | CAA Q   | CGA R   | A\n",
      "C | CTG L   | CCG P   | CAG Q   | CGG R   | G\n",
      "--+---------+---------+---------+---------+--\n",
      "A | ATT I(s)| ACT T   | AAT N   | AGT S   | T\n",
      "A | ATC I(s)| ACC T   | AAC N   | AGC S   | C\n",
      "A | ATA M(s)| ACA T   | AAA K   | AGA Stop| A\n",
      "A | ATG M(s)| ACG T   | AAG K   | AGG Stop| G\n",
      "--+---------+---------+---------+---------+--\n",
      "G | GTT V   | GCT A   | GAT D   | GGT G   | T\n",
      "G | GTC V   | GCC A   | GAC D   | GGC G   | C\n",
      "G | GTA V   | GCA A   | GAA E   | GGA G   | A\n",
      "G | GTG V(s)| GCG A   | GAG E   | GGG G   | G\n",
      "--+---------+---------+---------+---------+--\n"
     ]
    }
   ],
   "source": [
    "from Bio.Data import CodonTable\n",
    "mito_table = CodonTable.unambiguous_dna_by_name[\"Vertebrate Mitochondrial\"]\n",
    "print(mito_table)"
   ]
  },
  {
   "cell_type": "code",
   "execution_count": 4,
   "metadata": {},
   "outputs": [],
   "source": [
    "def translate_function1(string_nucleotides): \n",
    "    mito_table = CodonTable.unambiguous_dna_by_name[\"Vertebrate Mitochondrial\"] #import codon table from Biopython, unambiguous_dna_by_name extends codon list to include all possible ambigous codons\n",
    "    aa_seq_string = \"\"  #create an empty variable \"aa_seq_string\"\n",
    "\n",
    "    for i in range(0, len(string_nucleotides), 3):   #for loop to go through the sequence 3 characters at a time and get codon using range subsets\n",
    "        codon = string_nucleotides[i:i+3] #create variable codon\n",
    "        if codon != 'TAA' and codon != 'TAG' and codon != 'AGA' and codon!= 'AGG': # IMPORTANT: if the sequence has a stop codon at the end, you should leave it off\n",
    "            aa = mito_table.forward_table[codon] #create variable aa for amino acid corresponding to codon in mito_table\n",
    "            aa_seq_string += aa #add aa to aa_seq_string\n",
    "    return  aa_seq_string #print out aa_seq_string\n"
   ]
  },
  {
   "cell_type": "code",
   "execution_count": 5,
   "metadata": {},
   "outputs": [
    {
     "data": {
      "text/plain": [
       "'MPLELS'"
      ]
     },
     "execution_count": 5,
     "metadata": {},
     "output_type": "execute_result"
    }
   ],
   "source": [
    "translate_function1(\"ATGTAGCCCTTGGAACTTTCCTAG\")"
   ]
  },
  {
   "cell_type": "markdown",
   "metadata": {},
   "source": [
    "### 3. Write an alternative translation function."
   ]
  },
  {
   "cell_type": "code",
   "execution_count": 6,
   "metadata": {},
   "outputs": [],
   "source": [
    "from Bio.Seq import Seq\n",
    "from Bio.Alphabet import IUPAC\n",
    "\n",
    "#code adapted from examples in http://biopython.org/DIST/docs/tutorial/Tutorial.html#htoc25\n",
    "\n",
    "#This function creates a dictionary aa_seq_dict\n",
    "def translate_function2(sequence_dict): #create a function whose argument is a dictionary of DNA Sequences where key = species and value = dna sequence\n",
    "    aa_seq_dict = {} #create an empty dictionary to add to\n",
    "    for key, value in sequence_dict.items(): #for loop that cycles through each key and corresponding value in sequence dictionary\n",
    "        species_name = key \n",
    "        protein = value.translate(to_stop = True) #biopython .translate() function to translate DNA sequence to protein; to_stop = False means translate stop codons; stop codons will be identified with an asterik by default\n",
    "        aa_seq_dict[species_name] = protein # add each individual record including it's species name into the created dictionary\n",
    "    return(aa_seq_dict)\n",
    "\n",
    "#This function simply prints out the string of amino acid sequence\n",
    "def translate_function3(sequence_dict): #create a function whose argument is a dictionary of DNA Sequences where key = species and value = dna sequence\n",
    "    for key, value in sequence_dict.items():           #for loop that cycles through each key and corresponding value in sequence dictionary\n",
    "        species_name = key\n",
    "        protein = value.translate(to_stop = True) #biopython .translate() function to translate DNA sequence to protein; to_stop = False means translate stop codons; stop codons will be identified with an asterik by default\n",
    "        print(species_name + \" : \" + protein + \"\\n\") #print out species name (key), a colon and the protein sequence and start a new line\n",
    "    "
   ]
  },
  {
   "cell_type": "markdown",
   "metadata": {},
   "source": [
    "### 4. Write a function that calculates the molecular weight of each amino acid sequence."
   ]
  },
  {
   "cell_type": "code",
   "execution_count": 7,
   "metadata": {},
   "outputs": [],
   "source": [
    "from Bio.SeqUtils.ProtParam import ProteinAnalysis\n",
    "from Bio.Seq import Seq\n",
    "from Bio import SeqIO\n",
    "from Bio.Alphabet import IUPAC\n",
    "\n",
    "#This function creates a dictionary mw_dict\n",
    "def compute_molecular_weight(sequence_dict): # define a new function whose argument is a dictionary with key=species and value = dna sequence\n",
    "    mw_dict = {}  #create an empty dictionary to add to\n",
    "    for key, value in sequence_dict.items(): #for loop that cycles through each key and corresponding value in sequence dictionary\n",
    "        species_name = key\n",
    "        protein = value.translate(to_stop = True) #biopython .translate() function to translate DNA sequence to protein\n",
    "        protein_str = str(protein) # create variable of protein string\n",
    "        analysed_seq = ProteinAnalysis(protein_str) \n",
    "        mw = str(analysed_seq.molecular_weight())\n",
    "        mw_dict[species_name] = mw #add to new dictionary where key = species_name and value = mw\n",
    "    return(mw_dict) "
   ]
  },
  {
   "cell_type": "code",
   "execution_count": 8,
   "metadata": {},
   "outputs": [],
   "source": [
    "#This function simply prints out the molecular weight\n",
    "def compute_molecular_weight2(sequence_dict):\n",
    "    for key, value in sequence_dict.items():\n",
    "        species_name = key\n",
    "        protein = value.translate(to_stop = True)\n",
    "        protein_str = str(protein)\n",
    "        analysed_seq = ProteinAnalysis(protein_str)\n",
    "        mw = str(analysed_seq.molecular_weight())\n",
    "        print (species_name + \" : \" + mw)"
   ]
  },
  {
   "cell_type": "code",
   "execution_count": 9,
   "metadata": {},
   "outputs": [
    {
     "ename": "NameError",
     "evalue": "name 'cytb_seqs' is not defined",
     "output_type": "error",
     "traceback": [
      "\u001b[0;31m---------------------------------------------------------------------------\u001b[0m",
      "\u001b[0;31mNameError\u001b[0m                                 Traceback (most recent call last)",
      "\u001b[0;32m<ipython-input-9-10a3f6b06dac>\u001b[0m in \u001b[0;36m<module>\u001b[0;34m\u001b[0m\n\u001b[0;32m----> 1\u001b[0;31m \u001b[0maa_seq_dict\u001b[0m \u001b[0;34m=\u001b[0m \u001b[0mtranslate_function2\u001b[0m\u001b[0;34m(\u001b[0m\u001b[0mcytb_seqs\u001b[0m\u001b[0;34m)\u001b[0m\u001b[0;34m\u001b[0m\u001b[0m\n\u001b[0m",
      "\u001b[0;31mNameError\u001b[0m: name 'cytb_seqs' is not defined"
     ]
    }
   ],
   "source": [
    "aa_seq_dict = translate_function2(cytb_seqs)"
   ]
  },
  {
   "cell_type": "markdown",
   "metadata": {},
   "source": [
    "### 5. Write a function that computes the GC-content of each DNA sequence."
   ]
  },
  {
   "cell_type": "code",
   "execution_count": 10,
   "metadata": {},
   "outputs": [],
   "source": [
    "def GC_content (sequence_dict): # define a function\n",
    "    for key, value in sequence_dict.items(): #for loop that cycles through each key and corresponding value is a dictionary of DNA Sequences where key = species and value = dna sequence \n",
    "        total = len(value) #get a total number of bases in the sequence\n",
    "        G_count = value.count('G') #get a count of the number of Gs in the sequence\n",
    "        C_count = value.count('C') #get a count of the number of Cs in the sequence\n",
    "        GC = ((G_count + C_count)/total)*100  #get a percentage of GC\n",
    "        print(key + \" : \" + str(GC))\n",
    "        \n",
    "def GC_content2 (sequence_dict):\n",
    "        gc_dict = {} \n",
    "        for key, value in sequence_dict.items(): #for loop that cycles through each key and corresponding value in cytb_seqs\n",
    "            species_name = key\n",
    "            total = len(value)\n",
    "            G_count = value.count('G')\n",
    "            C_count = value.count('C')\n",
    "            GC = ((G_count + C_count)/total)*100\n",
    "            gc_dict[species_name] = GC\n",
    "        return(gc_dict)"
   ]
  },
  {
   "cell_type": "markdown",
   "metadata": {},
   "source": [
    "## Main"
   ]
  },
  {
   "cell_type": "code",
   "execution_count": 11,
   "metadata": {},
   "outputs": [],
   "source": [
    "cytb_seqs = get_sequences_from_file(\"bears_cytb.fasta\") \n",
    "\n",
    "bears_df = pd.read_csv(\"bears_mass.csv\") # Includes only data for body mass \n",
    "species_list = list(bears_df.species)"
   ]
  },
  {
   "cell_type": "code",
   "execution_count": 12,
   "metadata": {},
   "outputs": [
    {
     "data": {
      "text/plain": [
       "{'Ursus spelaeus': Seq('ATGACCAACATCCGAAAAACCCATCCATTAGCTAAAATCATCAACAACTCATTT...AGA', SingleLetterAlphabet()),\n",
       " 'Ursus arctos': Seq('ATGACCAACATCCGAAAAACCCACCCATTAGCTAAAATCATCAACAACTCACTT...AGA', SingleLetterAlphabet()),\n",
       " 'Ursus thibetanus': Seq('ATGACCAACATCCGAAAAACCCATCCATTAGCCAAAATCATCAACAACTCACTC...AGA', SingleLetterAlphabet()),\n",
       " 'Melursus ursinus': Seq('ATGACCAACATCCGAAAAACCCACCCATTAGCTAAAATCATTAACAACTCACTC...AGA', SingleLetterAlphabet()),\n",
       " 'Ursus americanus': Seq('ATGACCAACATCCGAAAAACCCACCCATTAGCTAAAATCATCAACAACTCACTT...AGA', SingleLetterAlphabet()),\n",
       " 'Helarctos malayanus': Seq('ATGACCAACATCCGAAAAACCCACCCATTAGCTAAAATCATTAACAACTCACTT...AGA', SingleLetterAlphabet()),\n",
       " 'Ailuropoda melanoleuca': Seq('ATGATCAACATCCGAAAAACTCATCCATTAGTTAAAATTATCAACAACTCATTC...AGA', SingleLetterAlphabet()),\n",
       " 'Tremarctos ornatus': Seq('ATGACCAACATCCGAAAAACTCACCCACTAGCTAAAATCATCAACAGCTCATTC...AGA', SingleLetterAlphabet()),\n",
       " 'Ursus maritimus': Seq('ATGACCAACATCCGAAAAACCCACCCATTAGCTAAAATCATCAACAACTCATTT...AGA', SingleLetterAlphabet())}"
      ]
     },
     "execution_count": 12,
     "metadata": {},
     "output_type": "execute_result"
    }
   ],
   "source": [
    "cytb_seqs"
   ]
  },
  {
   "cell_type": "code",
   "execution_count": 13,
   "metadata": {},
   "outputs": [
    {
     "data": {
      "text/plain": [
       "Seq('ATGACCAACATCCGAAAAACCCATCCATTAGCTAAAATCATCAACAACTCATTT...AGA', SingleLetterAlphabet())"
      ]
     },
     "execution_count": 13,
     "metadata": {},
     "output_type": "execute_result"
    }
   ],
   "source": [
    "cytb_seqs[\"Ursus spelaeus\"]"
   ]
  },
  {
   "cell_type": "markdown",
   "metadata": {},
   "source": [
    "### 6. Add two new columns to the bears DataFrame: (1) molecular weight and (2) GC content."
   ]
  },
  {
   "cell_type": "code",
   "execution_count": 14,
   "metadata": {},
   "outputs": [
    {
     "name": "stdout",
     "output_type": "stream",
     "text": [
      "                  species     mass  Molecular Weight  GC Content\n",
      "0          Ursus spelaeus  550.800               NaN         NaN\n",
      "1            Ursus arctos  203.500               NaN         NaN\n",
      "2        Ursus thibetanus   99.714               NaN         NaN\n",
      "3        Melursus ursinus  100.030               NaN         NaN\n",
      "4        Ursus americanus  110.560               NaN         NaN\n",
      "5     Helarctos malayanus   47.020               NaN         NaN\n",
      "6  Ailuropoda melanoleuca  118.200               NaN         NaN\n",
      "7      Tremarctos ornatus  140.700               NaN         NaN\n",
      "8         Ursus maritimus  425.100               NaN         NaN\n"
     ]
    }
   ],
   "source": [
    "import numpy as np\n",
    "import pandas as pd\n",
    "\n",
    "#add new columns to dataframe and set them as not a number (NaN)\n",
    "bears_df[\"Molecular Weight\"] = np.nan\n",
    "bears_df[\"GC Content\"] = np.nan\n",
    "print(bears_df)"
   ]
  },
  {
   "cell_type": "markdown",
   "metadata": {},
   "source": [
    "### 7. Call your functions from step 3 (or step 2) and step 4 and fill in the new columns in the DataFrame."
   ]
  },
  {
   "cell_type": "code",
   "execution_count": 15,
   "metadata": {},
   "outputs": [],
   "source": [
    "mw_dict = compute_molecular_weight(cytb_seqs)\n",
    "gc_dict = GC_content2(cytb_seqs)"
   ]
  },
  {
   "cell_type": "code",
   "execution_count": 16,
   "metadata": {},
   "outputs": [],
   "source": [
    "bears_df['Molecular Weight'] = bears_df['species'] #fill in the Molecular Weight column with species name (so we can use .replace() function)\n",
    "bears_df['GC Content'] = bears_df['species']\n",
    "bears_df = bears_df.replace({\"Molecular Weight\": mw_dict}) #use .replace() to replace species with dictionary values\n",
    "bears_df = bears_df.replace({\"GC Content\": gc_dict})"
   ]
  },
  {
   "cell_type": "markdown",
   "metadata": {},
   "source": [
    "### 8. Plot a bar-chart of adult body mass per species. In your description of the graph, provide text that answers these questions: \n",
    " a. What is the largest bear species?  The largest species is Ursus spelaeus\n",
    " b. What else is interesting about this species?"
   ]
  },
  {
   "cell_type": "code",
   "execution_count": 17,
   "metadata": {},
   "outputs": [
    {
     "data": {
      "text/plain": [
       "[Text(0, 0.5, 'Mass (kg)'), Text(0.5, 0, 'Species ID')]"
      ]
     },
     "execution_count": 17,
     "metadata": {},
     "output_type": "execute_result"
    },
    {
     "data": {
      "image/png": "[encoded data removed]",
      "text/plain": [
       "<Figure size 1440x648 with 1 Axes>"
      ]
     },
     "metadata": {},
     "output_type": "display_data"
    }
   ],
   "source": [
    "import matplotlib.pyplot as plt\n",
    "import seaborn as sns\n",
    "%matplotlib inline\n",
    "\n",
    "plot_dims = (20, 9)\n",
    "sns.set(font_scale=1)\n",
    "fig, ax = plt.subplots(figsize=plot_dims)\n",
    "sns.barplot(x = 'species', y = 'mass', data=bears_df)\n",
    "ax.set(xlabel='Species ID', ylabel='Mass (kg)')\n"
   ]
  },
  {
   "cell_type": "markdown",
   "metadata": {},
   "source": [
    "### 9. Plot a graph that shows the molecular weight as a function of GC content. "
   ]
  },
  {
   "cell_type": "code",
   "execution_count": 18,
   "metadata": {},
   "outputs": [
    {
     "data": {
      "text/html": [
       "<div>\n",
       "<style scoped>\n",
       "    .dataframe tbody tr th:only-of-type {\n",
       "        vertical-align: middle;\n",
       "    }\n",
       "\n",
       "    .dataframe tbody tr th {\n",
       "        vertical-align: top;\n",
       "    }\n",
       "\n",
       "    .dataframe thead th {\n",
       "        text-align: right;\n",
       "    }\n",
       "</style>\n",
       "<table border=\"1\" class=\"dataframe\">\n",
       "  <thead>\n",
       "    <tr style=\"text-align: right;\">\n",
       "      <th></th>\n",
       "      <th>species</th>\n",
       "      <th>mass</th>\n",
       "      <th>Molecular Weight</th>\n",
       "      <th>GC Content</th>\n",
       "    </tr>\n",
       "  </thead>\n",
       "  <tbody>\n",
       "    <tr>\n",
       "      <th>0</th>\n",
       "      <td>Ursus spelaeus</td>\n",
       "      <td>550.800</td>\n",
       "      <td>3207.7007</td>\n",
       "      <td>43.771930</td>\n",
       "    </tr>\n",
       "    <tr>\n",
       "      <th>1</th>\n",
       "      <td>Ursus arctos</td>\n",
       "      <td>203.500</td>\n",
       "      <td>3173.6845</td>\n",
       "      <td>43.771930</td>\n",
       "    </tr>\n",
       "    <tr>\n",
       "      <th>2</th>\n",
       "      <td>Ursus thibetanus</td>\n",
       "      <td>99.714</td>\n",
       "      <td>3143.6585</td>\n",
       "      <td>45.614035</td>\n",
       "    </tr>\n",
       "    <tr>\n",
       "      <th>3</th>\n",
       "      <td>Melursus ursinus</td>\n",
       "      <td>100.030</td>\n",
       "      <td>3143.6585</td>\n",
       "      <td>45.175439</td>\n",
       "    </tr>\n",
       "    <tr>\n",
       "      <th>4</th>\n",
       "      <td>Ursus americanus</td>\n",
       "      <td>110.560</td>\n",
       "      <td>3173.6845</td>\n",
       "      <td>43.947368</td>\n",
       "    </tr>\n",
       "    <tr>\n",
       "      <th>5</th>\n",
       "      <td>Helarctos malayanus</td>\n",
       "      <td>47.020</td>\n",
       "      <td>3143.6585</td>\n",
       "      <td>44.298246</td>\n",
       "    </tr>\n",
       "    <tr>\n",
       "      <th>6</th>\n",
       "      <td>Ailuropoda melanoleuca</td>\n",
       "      <td>118.200</td>\n",
       "      <td>3277.8335</td>\n",
       "      <td>40.789474</td>\n",
       "    </tr>\n",
       "    <tr>\n",
       "      <th>7</th>\n",
       "      <td>Tremarctos ornatus</td>\n",
       "      <td>140.700</td>\n",
       "      <td>3180.6754</td>\n",
       "      <td>44.385965</td>\n",
       "    </tr>\n",
       "    <tr>\n",
       "      <th>8</th>\n",
       "      <td>Ursus maritimus</td>\n",
       "      <td>425.100</td>\n",
       "      <td>3207.7007</td>\n",
       "      <td>44.298246</td>\n",
       "    </tr>\n",
       "  </tbody>\n",
       "</table>\n",
       "</div>"
      ],
      "text/plain": [
       "                  species     mass  Molecular Weight  GC Content\n",
       "0          Ursus spelaeus  550.800         3207.7007   43.771930\n",
       "1            Ursus arctos  203.500         3173.6845   43.771930\n",
       "2        Ursus thibetanus   99.714         3143.6585   45.614035\n",
       "3        Melursus ursinus  100.030         3143.6585   45.175439\n",
       "4        Ursus americanus  110.560         3173.6845   43.947368\n",
       "5     Helarctos malayanus   47.020         3143.6585   44.298246\n",
       "6  Ailuropoda melanoleuca  118.200         3277.8335   40.789474\n",
       "7      Tremarctos ornatus  140.700         3180.6754   44.385965\n",
       "8         Ursus maritimus  425.100         3207.7007   44.298246"
      ]
     },
     "execution_count": 18,
     "metadata": {},
     "output_type": "execute_result"
    }
   ],
   "source": [
    "bears_df1 = bears_df\n",
    "bears_df1[\"Molecular Weight\"] = pd.to_numeric(bears_df1[\"Molecular Weight\"])\n",
    "bears_df1[\"GC Content\"] = pd.to_numeric(bears_df1[\"GC Content\"])\n",
    "bears_df1"
   ]
  },
  {
   "cell_type": "code",
   "execution_count": 19,
   "metadata": {},
   "outputs": [
    {
     "data": {
      "text/plain": [
       "<seaborn.axisgrid.FacetGrid at 0x1a209d8400>"
      ]
     },
     "execution_count": 19,
     "metadata": {},
     "output_type": "execute_result"
    },
    {
     "data": {
      "image/png": "[encoded data removed]",
      "text/plain": [
       "<Figure size 533.6x360 with 1 Axes>"
      ]
     },
     "metadata": {
      "needs_background": "light"
     },
     "output_type": "display_data"
    }
   ],
   "source": [
    "sns.lmplot(\"GC Content\", \"Molecular Weight\", data= bears_df1, fit_reg=False, hue=\"species\")"
   ]
  },
  {
   "cell_type": "markdown",
   "metadata": {},
   "source": [
    "### 10. Write the entire DataFrame to a new CSV file that includes your new columns."
   ]
  },
  {
   "cell_type": "code",
   "execution_count": 20,
   "metadata": {},
   "outputs": [
    {
     "data": {
      "text/html": [
       "<div>\n",
       "<style scoped>\n",
       "    .dataframe tbody tr th:only-of-type {\n",
       "        vertical-align: middle;\n",
       "    }\n",
       "\n",
       "    .dataframe tbody tr th {\n",
       "        vertical-align: top;\n",
       "    }\n",
       "\n",
       "    .dataframe thead th {\n",
       "        text-align: right;\n",
       "    }\n",
       "</style>\n",
       "<table border=\"1\" class=\"dataframe\">\n",
       "  <thead>\n",
       "    <tr style=\"text-align: right;\">\n",
       "      <th></th>\n",
       "      <th>species</th>\n",
       "      <th>mass</th>\n",
       "      <th>Molecular Weight</th>\n",
       "      <th>GC Content</th>\n",
       "    </tr>\n",
       "  </thead>\n",
       "  <tbody>\n",
       "    <tr>\n",
       "      <th>0</th>\n",
       "      <td>Ursus spelaeus</td>\n",
       "      <td>550.800</td>\n",
       "      <td>3207.7007</td>\n",
       "      <td>43.771930</td>\n",
       "    </tr>\n",
       "    <tr>\n",
       "      <th>1</th>\n",
       "      <td>Ursus arctos</td>\n",
       "      <td>203.500</td>\n",
       "      <td>3173.6845</td>\n",
       "      <td>43.771930</td>\n",
       "    </tr>\n",
       "    <tr>\n",
       "      <th>2</th>\n",
       "      <td>Ursus thibetanus</td>\n",
       "      <td>99.714</td>\n",
       "      <td>3143.6585</td>\n",
       "      <td>45.614035</td>\n",
       "    </tr>\n",
       "    <tr>\n",
       "      <th>3</th>\n",
       "      <td>Melursus ursinus</td>\n",
       "      <td>100.030</td>\n",
       "      <td>3143.6585</td>\n",
       "      <td>45.175439</td>\n",
       "    </tr>\n",
       "    <tr>\n",
       "      <th>4</th>\n",
       "      <td>Ursus americanus</td>\n",
       "      <td>110.560</td>\n",
       "      <td>3173.6845</td>\n",
       "      <td>43.947368</td>\n",
       "    </tr>\n",
       "    <tr>\n",
       "      <th>5</th>\n",
       "      <td>Helarctos malayanus</td>\n",
       "      <td>47.020</td>\n",
       "      <td>3143.6585</td>\n",
       "      <td>44.298246</td>\n",
       "    </tr>\n",
       "    <tr>\n",
       "      <th>6</th>\n",
       "      <td>Ailuropoda melanoleuca</td>\n",
       "      <td>118.200</td>\n",
       "      <td>3277.8335</td>\n",
       "      <td>40.789474</td>\n",
       "    </tr>\n",
       "    <tr>\n",
       "      <th>7</th>\n",
       "      <td>Tremarctos ornatus</td>\n",
       "      <td>140.700</td>\n",
       "      <td>3180.6754</td>\n",
       "      <td>44.385965</td>\n",
       "    </tr>\n",
       "    <tr>\n",
       "      <th>8</th>\n",
       "      <td>Ursus maritimus</td>\n",
       "      <td>425.100</td>\n",
       "      <td>3207.7007</td>\n",
       "      <td>44.298246</td>\n",
       "    </tr>\n",
       "  </tbody>\n",
       "</table>\n",
       "</div>"
      ],
      "text/plain": [
       "                  species     mass  Molecular Weight  GC Content\n",
       "0          Ursus spelaeus  550.800         3207.7007   43.771930\n",
       "1            Ursus arctos  203.500         3173.6845   43.771930\n",
       "2        Ursus thibetanus   99.714         3143.6585   45.614035\n",
       "3        Melursus ursinus  100.030         3143.6585   45.175439\n",
       "4        Ursus americanus  110.560         3173.6845   43.947368\n",
       "5     Helarctos malayanus   47.020         3143.6585   44.298246\n",
       "6  Ailuropoda melanoleuca  118.200         3277.8335   40.789474\n",
       "7      Tremarctos ornatus  140.700         3180.6754   44.385965\n",
       "8         Ursus maritimus  425.100         3207.7007   44.298246"
      ]
     },
     "execution_count": 20,
     "metadata": {},
     "output_type": "execute_result"
    }
   ],
   "source": [
    "import pandas\n",
    "bears_df1"
   ]
  },
  {
   "cell_type": "code",
   "execution_count": 21,
   "metadata": {},
   "outputs": [],
   "source": [
    "bears_df1.to_csv(\"bears_df.csv\")"
   ]
  },
  {
   "cell_type": "markdown",
   "metadata": {},
   "source": [
    "### 11. BONUS: What other visualizations, functions or tasks would you do with this dataset? Add something interesting for fun."
   ]
  },
  {
   "cell_type": "code",
   "execution_count": 22,
   "metadata": {},
   "outputs": [
    {
     "data": {
      "text/plain": [
       "Text(0.5, 0, 'mass kg')"
      ]
     },
     "execution_count": 22,
     "metadata": {},
     "output_type": "execute_result"
    },
    {
     "data": {
      "image/png": "[encoded data removed]",
      "text/plain": [
       "<Figure size 432x288 with 1 Axes>"
      ]
     },
     "metadata": {
      "needs_background": "light"
     },
     "output_type": "display_data"
    }
   ],
   "source": [
    "from mpl_toolkits import mplot3d\n",
    "%matplotlib inline\n",
    "import numpy as np\n",
    "import matplotlib.pyplot as plt\n",
    "\n",
    "fig = plt.figure()\n",
    "ax = plt.axes(projection='3d')\n",
    "y = bears_df1['mass']\n",
    "z = bears_df1['Molecular Weight']\n",
    "x = bears_df1['GC Content']\n",
    "\n",
    "\n",
    "ax.scatter(x, y, z, c= 'r')\n",
    "ax.set_xlabel('GC Content %')\n",
    "ax.set_zlabel('Molecular Weight')\n",
    "ax.set_ylabel('mass kg')"
   ]
  },
  {
   "cell_type": "code",
   "execution_count": null,
   "metadata": {},
   "outputs": [],
   "source": []
  }
 ],
 "metadata": {
  "kernelspec": {
   "display_name": "Python 3",
   "language": "python",
   "name": "python3"
  },
  "language_info": {
   "codemirror_mode": {
    "name": "ipython",
    "version": 3
   },
   "file_extension": ".py",
   "mimetype": "text/x-python",
   "name": "python",
   "nbconvert_exporter": "python",
   "pygments_lexer": "ipython3",
   "version": "3.7.0"
  }
 },
 "nbformat": 4,
 "nbformat_minor": 2
}
